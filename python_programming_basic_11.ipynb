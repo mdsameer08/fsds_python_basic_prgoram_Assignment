{
 "cells": [
  {
   "cell_type": "markdown",
   "id": "68af67cf",
   "metadata": {},
   "source": [
    "# Assignment 11 Solutions"
   ]
  },
  {
   "cell_type": "code",
   "execution_count": 3,
   "id": "03861c35",
   "metadata": {},
   "outputs": [
    {
     "name": "stdout",
     "output_type": "stream",
     "text": [
      "Enter the string: INeuron Full Stack Data Science\n",
      "Enter the length of the string: 4\n",
      "INeuron,Stack,Science\n"
     ]
    }
   ],
   "source": [
    "#1. Write a Python program to find words which are greater than given length k ?\n",
    "def checkLengthOfString():\n",
    "    in_string = input(\"Enter the string: \")\n",
    "    in_length = int(input('Enter the length of the string: '))\n",
    "    out_string = []\n",
    "    for string in in_string.split(\" \"):\n",
    "        if len(string) > in_length:\n",
    "            out_string.append(string)\n",
    "    print(','.join(out_string))\n",
    "\n",
    "checkLengthOfString()"
   ]
  },
  {
   "cell_type": "code",
   "execution_count": 6,
   "id": "ad1928ce",
   "metadata": {},
   "outputs": [
    {
     "name": "stdout",
     "output_type": "stream",
     "text": [
      "Enter the String: ineuron\n",
      "Enter the ith Character: 2\n",
      "inuron\n"
     ]
    }
   ],
   "source": [
    "#2. Write a Python program for removing i-th character from a string ?\n",
    "def removeCharacter():\n",
    "    in_string = input(\"Enter the String: \")\n",
    "    in_char_num = int(input(\"Enter the ith Character: \"))\n",
    "    out_string = ''\n",
    "    for ele in range(len(in_string)):\n",
    "        if ele != in_char_num:\n",
    "            out_string = out_string + in_string[ele]\n",
    "    print(out_string)\n",
    "    \n",
    "removeCharacter()"
   ]
  },
  {
   "cell_type": "code",
   "execution_count": 11,
   "id": "6d776e4b",
   "metadata": {},
   "outputs": [
    {
     "name": "stdout",
     "output_type": "stream",
     "text": [
      "Enter the string: Ineuron Full Stack Data Science Course\n",
      "Split String: ['Ineuron', 'Full', 'Stack', 'Data', 'Science', 'Course']\n",
      "Join String: Ineuron Full Stack Data Science Course\n"
     ]
    }
   ],
   "source": [
    "#3. Write a Python program to split and join a string ?\n",
    "def splitJoinString():\n",
    "    in_string = input('Enter the string: ')\n",
    "    print(f\"Split String: {in_string.split(' ')}\")\n",
    "    print(f\"Join String: {' '.join(in_string.split(' '))}\")\n",
    "\n",
    "splitJoinString()"
   ]
  },
  {
   "cell_type": "code",
   "execution_count": 16,
   "id": "5ef71bba",
   "metadata": {},
   "outputs": [
    {
     "name": "stdout",
     "output_type": "stream",
     "text": [
      "Enter the string: 1234\n",
      "1234 is not a binart string\n",
      "Enter the string: 1010101\n",
      "1010101 is a binary string\n"
     ]
    }
   ],
   "source": [
    "#4. Write a Python to check if a given string is binary string or not ?\n",
    "def checkBinary():\n",
    "    in_string = input('Enter the string: ')\n",
    "    stun = 0\n",
    "    for ele in in_string:\n",
    "        if ele in ['0','1']:\n",
    "            stun = 1\n",
    "            continue\n",
    "        else:\n",
    "            stun = 0\n",
    "            break\n",
    "    statement = 'is a binary string' if stun == 1 else 'is not a binart string' \n",
    "    print(f'{in_string} {statement}')\n",
    "\n",
    "checkBinary()\n",
    "checkBinary()"
   ]
  },
  {
   "cell_type": "code",
   "execution_count": 20,
   "id": "7fd5da9f",
   "metadata": {},
   "outputs": [
    {
     "name": "stdout",
     "output_type": "stream",
     "text": [
      "Enter the String 1: Supervised Learning\n",
      "Enter the String 2: Unsupervised Learning\n",
      "{'Unsupervised', 'Supervised'}\n"
     ]
    }
   ],
   "source": [
    "#5. Write a Python program to find uncommon words from two Strings ?\n",
    "def unCommonWords():\n",
    "    in_string_1 = set(input(\"Enter the String 1: \").split(' '))\n",
    "    in_string_2 = set(input(\"Enter the String 2: \").split(' '))\n",
    "    out_string = (in_string_1.union(in_string_2)).difference(in_string_1.intersection(in_string_2))\n",
    "    print(out_string)\n",
    "\n",
    "unCommonWords()"
   ]
  },
  {
   "cell_type": "code",
   "execution_count": 21,
   "id": "19bc1c50",
   "metadata": {},
   "outputs": [
    {
     "name": "stdout",
     "output_type": "stream",
     "text": [
      "Enter the string: full stack data science course\n",
      "Duplicate characters are: ['a', 'c', 'u', 'l', 'e', ' ', 't', 's']\n"
     ]
    }
   ],
   "source": [
    "#6. Write a Python to find all duplicate characters in string ?\n",
    "def duplicateChars():\n",
    "    in_string = input('Enter the string: ')\n",
    "    non_duplicate_list = []\n",
    "    duplicate_list = []\n",
    "    for ele in in_string:\n",
    "        if ele not in non_duplicate_list:\n",
    "            non_duplicate_list.append(ele)\n",
    "        else:\n",
    "            duplicate_list.append(ele)\n",
    "    print(f'Duplicate characters are: {list(set(duplicate_list))}')\n",
    "        \n",
    "duplicateChars()"
   ]
  },
  {
   "cell_type": "code",
   "execution_count": 24,
   "id": "047dcb41",
   "metadata": {},
   "outputs": [
    {
     "name": "stdout",
     "output_type": "stream",
     "text": [
      "Enter the string: DS @ Ineuron by Sudhanshu & krish\n",
      "There are 2 Speical Characters in DS @ Ineuron by Sudhanshu & krish which are ['@', '&']\n",
      "Enter the string: Brotherhood\n",
      "There are 0 Speical Characters in Brotherhood which are []\n"
     ]
    }
   ],
   "source": [
    "#7. Write a Python Program to check if a string contains any special character?\n",
    "def checkSpecialChar():\n",
    "    spl_chars = '[@_!#$%^&*()<>?/\\|}{~:]'\n",
    "    in_num = input('Enter the string: ')\n",
    "    count = 0\n",
    "    char_list = []\n",
    "    for ele in in_num:\n",
    "        if ele in spl_chars:\n",
    "            char_list.append(ele)\n",
    "            count = count+1\n",
    "    print(f'There are {count} Speical Characters in {in_num} which are {char_list}')\n",
    "            \n",
    "        \n",
    "checkSpecialChar()\n",
    "checkSpecialChar()"
   ]
  },
  {
   "cell_type": "code",
   "execution_count": null,
   "id": "7cebf5b3",
   "metadata": {},
   "outputs": [],
   "source": []
  }
 ],
 "metadata": {
  "kernelspec": {
   "display_name": "Python 3 (ipykernel)",
   "language": "python",
   "name": "python3"
  },
  "language_info": {
   "codemirror_mode": {
    "name": "ipython",
    "version": 3
   },
   "file_extension": ".py",
   "mimetype": "text/x-python",
   "name": "python",
   "nbconvert_exporter": "python",
   "pygments_lexer": "ipython3",
   "version": "3.9.12"
  }
 },
 "nbformat": 4,
 "nbformat_minor": 5
}
